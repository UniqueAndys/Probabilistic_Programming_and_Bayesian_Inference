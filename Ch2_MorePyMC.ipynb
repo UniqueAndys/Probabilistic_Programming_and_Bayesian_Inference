{
 "cells": [
  {
   "cell_type": "markdown",
   "metadata": {},
   "source": [
    "# 第2章 进一步了解PyMC"
   ]
  },
  {
   "cell_type": "markdown",
   "metadata": {},
   "source": [
    "**父变量**是会对其他变量有影响的变量  \n",
    "**子变量**是会被其他变量影响的变量，即父变量的作用变量"
   ]
  },
  {
   "cell_type": "code",
   "execution_count": 1,
   "metadata": {
    "collapsed": true
   },
   "outputs": [],
   "source": [
    "import pymc as pm\n",
    "\n",
    "parameter = pm.Exponential(\"poisson_param\", 1)\n",
    "data_generator = pm.Poisson(\"data_generator\", parameter)\n",
    "data_plus_one = data_generator + 1"
   ]
  },
  {
   "cell_type": "code",
   "execution_count": 6,
   "metadata": {
    "collapsed": false
   },
   "outputs": [
    {
     "name": "stdout",
     "output_type": "stream",
     "text": [
      "(\"Childrent of 'paremeter':\", set([<pymc.distributions.Poisson 'data_generator' at 0x7f09f3793fd0>]))\n",
      "(\"Parents of 'data_generator':\", {'mu': <pymc.distributions.Exponential 'poisson_param' at 0x7f0a383bb950>})\n",
      "(\"Childrent of 'data_generator':\", set([<pymc.PyMCObjects.Deterministic '(data_generator_add_1)' at 0x7f09f37a3150>]))\n"
     ]
    }
   ],
   "source": [
    "# access a variable's children and parent variables\n",
    "# using the children and parents attributes\n",
    "print(\"Childrent of 'paremeter':\", parameter.children)\n",
    "print(\"Parents of 'data_generator':\", data_generator.parents)\n",
    "print(\"Childrent of 'data_generator':\", data_generator.children)"
   ]
  },
  {
   "cell_type": "markdown",
   "metadata": {},
   "source": [
    "PyMC中存在两种类型的编程变量：随机型和确定型。  \n",
    "**随机型变量** 即使获取了这个变量的所有父变量，它的取值仍然是随机的  \n",
    "**确定型变量** 如果父变量确定，那么它不再随机。"
   ]
  },
  {
   "cell_type": "code",
   "execution_count": 7,
   "metadata": {
    "collapsed": false
   },
   "outputs": [
    {
     "name": "stdout",
     "output_type": "stream",
     "text": [
      "('parameter.value =', array(1.6717934357625681))\n",
      "('data_generator.value =', array(2))\n",
      "('data_plus_one.value=', 3)\n"
     ]
    }
   ],
   "source": [
    "# value 属性\n",
    "print(\"parameter.value =\", parameter.value)\n",
    "print(\"data_generator.value =\", data_generator.value)\n",
    "print(\"data_plus_one.value=\", data_plus_one.value)"
   ]
  },
  {
   "cell_type": "markdown",
   "metadata": {},
   "source": [
    "使用size关键字构建一个多变量数组的随机型变量"
   ]
  },
  {
   "cell_type": "code",
   "execution_count": 12,
   "metadata": {
    "collapsed": false
   },
   "outputs": [],
   "source": [
    "betas = pm.Uniform(\"betas\", 0, 1, size=3)"
   ]
  },
  {
   "cell_type": "markdown",
   "metadata": {},
   "source": [
    "**调用random()**  \n",
    "调用随机变量方法random()可以产生一个新的随机值（给定父变量的情况下）  \n",
    "调用random会在变量属性中存储一个新的值"
   ]
  },
  {
   "cell_type": "code",
   "execution_count": 16,
   "metadata": {
    "collapsed": false
   },
   "outputs": [
    {
     "name": "stdout",
     "output_type": "stream",
     "text": [
      "Initialized values...\n",
      "('betas.value:', array([ 0.16376173,  0.01126192,  0.85920017]))\n",
      "After calling random() on the variables...\n",
      "('beats.value:', array([ 0.21424706,  0.83241813,  0.30656072]))\n"
     ]
    }
   ],
   "source": [
    "print(\"Initialized values...\")\n",
    "print(\"betas.value:\", betas.value)\n",
    "betas.random()\n",
    "print(\"After calling random() on the variables...\")\n",
    "print(\"beats.value:\", betas.value)"
   ]
  }
 ],
 "metadata": {
  "anaconda-cloud": {},
  "kernelspec": {
   "display_name": "Python [conda root]",
   "language": "python",
   "name": "conda-root-py"
  },
  "language_info": {
   "codemirror_mode": {
    "name": "ipython",
    "version": 2
   },
   "file_extension": ".py",
   "mimetype": "text/x-python",
   "name": "python",
   "nbconvert_exporter": "python",
   "pygments_lexer": "ipython2",
   "version": "2.7.12"
  }
 },
 "nbformat": 4,
 "nbformat_minor": 1
}
