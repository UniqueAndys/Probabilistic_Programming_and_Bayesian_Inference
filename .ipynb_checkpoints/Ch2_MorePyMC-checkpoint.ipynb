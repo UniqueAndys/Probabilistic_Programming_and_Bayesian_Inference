{
 "cells": [
  {
   "cell_type": "markdown",
   "metadata": {},
   "source": [
    "# 第2章 进一步了解PyMC"
   ]
  },
  {
   "cell_type": "markdown",
   "metadata": {},
   "source": [
    "**父变量**是会对其他变量有影响的变量  \n",
    "**子变量**是会被其他变量影响的变量，即父变量的作用变量"
   ]
  },
  {
   "cell_type": "code",
   "execution_count": 1,
   "metadata": {
    "collapsed": true
   },
   "outputs": [],
   "source": [
    "import pymc as pm\n",
    "\n",
    "parameter = pm.Exponential(\"poisson_param\", 1)\n",
    "data_generator = pm.Poisson(\"data_generator\", parameter)\n",
    "data_plus_one = data_generator + 1"
   ]
  },
  {
   "cell_type": "code",
   "execution_count": 2,
   "metadata": {
    "collapsed": false
   },
   "outputs": [
    {
     "name": "stdout",
     "output_type": "stream",
     "text": [
      "(\"Childrent of 'paremeter':\", set([<pymc.distributions.Poisson 'data_generator' at 0x7faae87c6f90>]))\n",
      "(\"Parents of 'data_generator':\", {'mu': <pymc.distributions.Exponential 'poisson_param' at 0x7fab2c3de850>})\n",
      "(\"Childrent of 'data_generator':\", set([<pymc.PyMCObjects.Deterministic '(data_generator_add_1)' at 0x7faae87d5110>]))\n"
     ]
    }
   ],
   "source": [
    "# access a variable's children and parent variables\n",
    "# using the children and parents attributes\n",
    "print(\"Childrent of 'paremeter':\", parameter.children)\n",
    "print(\"Parents of 'data_generator':\", data_generator.parents)\n",
    "print(\"Childrent of 'data_generator':\", data_generator.children)"
   ]
  },
  {
   "cell_type": "markdown",
   "metadata": {},
   "source": [
    "PyMC中存在两种类型的编程变量：随机型和确定型。  \n",
    "**随机型变量** 即使获取了这个变量的所有父变量，它的取值仍然是随机的  \n",
    "**确定型变量** 如果父变量确定，那么它不再随机。"
   ]
  },
  {
   "cell_type": "code",
   "execution_count": 3,
   "metadata": {
    "collapsed": false
   },
   "outputs": [
    {
     "name": "stdout",
     "output_type": "stream",
     "text": [
      "('parameter.value =', array(0.7188456641885469))\n",
      "('data_generator.value =', array(0))\n",
      "('data_plus_one.value=', 1)\n"
     ]
    }
   ],
   "source": [
    "# value 属性\n",
    "print(\"parameter.value =\", parameter.value)\n",
    "print(\"data_generator.value =\", data_generator.value)\n",
    "print(\"data_plus_one.value=\", data_plus_one.value)"
   ]
  },
  {
   "cell_type": "markdown",
   "metadata": {},
   "source": [
    "使用size关键字构建一个多变量数组的随机型变量"
   ]
  },
  {
   "cell_type": "code",
   "execution_count": 4,
   "metadata": {
    "collapsed": false
   },
   "outputs": [],
   "source": [
    "betas = pm.Uniform(\"betas\", 0, 1, size=3)"
   ]
  },
  {
   "cell_type": "markdown",
   "metadata": {},
   "source": [
    "**调用random()**  \n",
    "调用随机变量方法random()可以产生一个新的随机值（给定父变量的情况下）  \n",
    "调用random会在变量属性中存储一个新的值"
   ]
  },
  {
   "cell_type": "code",
   "execution_count": 5,
   "metadata": {
    "collapsed": false
   },
   "outputs": [
    {
     "name": "stdout",
     "output_type": "stream",
     "text": [
      "Initialized values...\n",
      "('betas.value:', array([ 0.36085812,  0.74584221,  0.75186906]))\n",
      "After calling random() on the variables...\n",
      "('beats.value:', array([ 0.20602876,  0.51595004,  0.28725091]))\n"
     ]
    }
   ],
   "source": [
    "print(\"Initialized values...\")\n",
    "print(\"betas.value:\", betas.value)\n",
    "betas.random()\n",
    "print(\"After calling random() on the variables...\")\n",
    "print(\"beats.value:\", betas.value)"
   ]
  },
  {
   "cell_type": "markdown",
   "metadata": {},
   "source": [
    "**确定型变量**  \n",
    "用pymc.deterministic封装区分一个确定型变量  \n",
    "- 元素操作、加法、指数和类似的方式都可以产生确定型变量  \n",
    "- 在创建确定型函数的时候，对函数中的每一个变量都要带关键字，所有变量都必须制定关键字"
   ]
  },
  {
   "cell_type": "code",
   "execution_count": 7,
   "metadata": {
    "collapsed": false
   },
   "outputs": [
    {
     "data": {
      "text/plain": [
       "pymc.PyMCObjects.Deterministic"
      ]
     },
     "execution_count": 7,
     "metadata": {},
     "output_type": "execute_result"
    }
   ],
   "source": [
    "lambda_1 = pm.Exponential(\"lambda_1\", 1)\n",
    "lambda_2 = pm.Exponential(\"lambda_2\", 2)\n",
    "type(lambda_1 + lambda_2)"
   ]
  },
  {
   "cell_type": "code",
   "execution_count": null,
   "metadata": {
    "collapsed": true
   },
   "outputs": [],
   "source": []
  }
 ],
 "metadata": {
  "anaconda-cloud": {},
  "kernelspec": {
   "display_name": "Python [conda root]",
   "language": "python",
   "name": "conda-root-py"
  },
  "language_info": {
   "codemirror_mode": {
    "name": "ipython",
    "version": 2
   },
   "file_extension": ".py",
   "mimetype": "text/x-python",
   "name": "python",
   "nbconvert_exporter": "python",
   "pygments_lexer": "ipython2",
   "version": "2.7.12"
  }
 },
 "nbformat": 4,
 "nbformat_minor": 1
}
